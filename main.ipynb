{
 "cells": [
  {
   "cell_type": "markdown",
   "metadata": {},
   "source": [
    "**References:**\n",
    "* [Sequence to Sequence Learning with Neural Networks](https://mlexplained.com/2018/02/15/language-modeling-tutorial-in-torchtext-practical-torchtext-part-2/)\n",
    "* [Language modeling tutorial in torchtext](https://github.com/bentrevett/pytorch-seq2seq/blob/master/1%20-%20Sequence%20to%20Sequence%20Learning%20with%20Neural%20Networks.ipynb)\n",
    "* [Language Models and Contextualised Word Embeddings](http://www.davidsbatista.net/blog/2018/12/06/Word_Embeddings/)\n"
   ]
  },
  {
   "cell_type": "code",
   "execution_count": 23,
   "metadata": {},
   "outputs": [],
   "source": [
    "import time \n",
    "import copy\n",
    "from collections import defaultdict\n",
    "\n",
    "import matplotlib.pyplot as plt\n",
    "import numpy as np\n",
    "import torch\n",
    "import torch.nn as nn\n",
    "import torch.nn.functional as F\n",
    "\n",
    "import torchtext\n",
    "from torchtext.datasets import WikiText2\n",
    "from torchtext.data.utils import get_tokenizer\n",
    "from torchtext.data import Field, BPTTIterator\n",
    "\n",
    "from model import RNN"
   ]
  },
  {
   "cell_type": "markdown",
   "metadata": {},
   "source": [
    "Define a torch.device which is used to tell PyTorch to put the tensors on the GPU or not. We use the `torch.cuda.is_available()` function, which will return True if a GPU is detected on our computer."
   ]
  },
  {
   "cell_type": "code",
   "execution_count": 2,
   "metadata": {},
   "outputs": [],
   "source": [
    "device = torch.device(\"cuda:0\" if torch.cuda.is_available() else \"cpu\")"
   ]
  },
  {
   "cell_type": "markdown",
   "metadata": {},
   "source": [
    "`torchtext.data.Field` handles how the data should be processed, the arguments for which can be found [here](https://pytorch.org/text/data.html). We set the `tokenize` argument to \"basic english\". The Field also appends the \"start of sequence\" and \"end of sequence\" tokens via the `init_token` and `eos_token` arguments, and converts all words to lowercase.\n",
    "\n",
    "A tokenizer is used to turn a string containing a sentence into a list of individual tokens that make up that string, e.g. \"good morning!\" becomes [\"good\", \"morning\", \"!\"]. We'll talk about the sentences being a sequence of tokens, instead of saying they're a sequence of words. This is because \"good\" and \"morning\" are both words and tokens, but \"!\" is a token, not a word."
   ]
  },
  {
   "cell_type": "code",
   "execution_count": 3,
   "metadata": {},
   "outputs": [
    {
     "name": "stderr",
     "output_type": "stream",
     "text": [
      "/anaconda3/envs/nlp/lib/python3.7/site-packages/torchtext/data/field.py:150: UserWarning: Field class will be retired in the 0.8.0 release and moved to torchtext.legacy. Please see 0.7.0 release notes for further information.\n",
      "  warnings.warn('{} class will be retired in the 0.8.0 release and moved to torchtext.legacy. Please see 0.7.0 release notes for further information.'.format(self.__class__.__name__), UserWarning)\n"
     ]
    }
   ],
   "source": [
    "# define how data should look\n",
    "TEXT = Field(tokenize=get_tokenizer(\"basic_english\"),\n",
    "             init_token='<sos>',\n",
    "             eos_token='<eos>',\n",
    "             lower=True)"
   ]
  },
  {
   "cell_type": "markdown",
   "metadata": {},
   "source": [
    "Download and load the train, validation, test datasets from WikiText2."
   ]
  },
  {
   "cell_type": "code",
   "execution_count": 4,
   "metadata": {},
   "outputs": [
    {
     "name": "stderr",
     "output_type": "stream",
     "text": [
      "/anaconda3/envs/nlp/lib/python3.7/site-packages/torchtext/data/example.py:78: UserWarning: Example class will be retired in the 0.8.0 release and moved to torchtext.legacy. Please see 0.7.0 release notes for further information.\n",
      "  warnings.warn('Example class will be retired in the 0.8.0 release and moved to torchtext.legacy. Please see 0.7.0 release notes for further information.', UserWarning)\n"
     ]
    },
    {
     "name": "stdout",
     "output_type": "stream",
     "text": [
      "Number of training words:   2086708\n",
      "Number of validation words: 218177\n",
      "Number of testing words:    246217\n"
     ]
    }
   ],
   "source": [
    "# get data\n",
    "train_x, val_x, test_x = WikiText2.splits(TEXT)\n",
    "print(f\"Number of training words:   {len(train_x.examples[0].text)}\")\n",
    "print(f\"Number of validation words: {len(val_x.examples[0].text)}\")\n",
    "print(f\"Number of testing words:    {len(test_x.examples[0].text)}\")"
   ]
  },
  {
   "cell_type": "markdown",
   "metadata": {},
   "source": [
    "Define the hyperparameters for the model and training processs."
   ]
  },
  {
   "cell_type": "code",
   "execution_count": 5,
   "metadata": {},
   "outputs": [],
   "source": [
    "use_precomputed_embeds = False\n",
    "\n",
    "# hyperparameters of model\n",
    "embed_size = 200\n",
    "rnn_hidden_size = 128\n",
    "rnn_num_layers = 1\n",
    "hidden_layer_size=None\n",
    "\n",
    "# hyperparameters for training\n",
    "epochs = 2\n",
    "batch_size = 20\n",
    "seq_len = 30\n",
    "learning_rate = 1e-3\n",
    "clip = 5\n",
    "solver = \"adam\""
   ]
  },
  {
   "cell_type": "markdown",
   "metadata": {},
   "source": [
    "We next build the vocabulary for our language modelling task. The vocabulary is used to associate each unique token with an index (an integer).\n",
    "\n",
    "It is important to note that our vocabulary should only be built from the training set and not the validation/test set. This prevents \"information leakage\" into our model, giving us artifically inflated validation/test scores.\n",
    "\n",
    "Using the `min_freq` argument, we only allow tokens that appear at least 2 times to be in our vocabulary. Tokens that appear only once are converted into an <unk> (unknown) token. Additionally, with the `vectors` argument we can use precomputed static word embeddings, in this case GloVe vectors with 200 dimensions:\n",
    "    \n",
    "* **Static word embeddings** map each token to a single vector, e.g. Skip-Gram (word2vec), GloVe, fastText. This means that the same word will have the same embedding regardless of the context it occurs in.\n",
    "    \n",
    "* **Contextual word embeddings** take into consideration the context of words, such that a word may have a different embedding depending on the words surrounding it e.g. BERT, ELMO."
   ]
  },
  {
   "cell_type": "code",
   "execution_count": 6,
   "metadata": {},
   "outputs": [
    {
     "name": "stdout",
     "output_type": "stream",
     "text": [
      "Number of unique tokens in vocabulary: 28785\n"
     ]
    }
   ],
   "source": [
    "# build vocabulary from the training data\n",
    "TEXT.build_vocab(train_x, min_freq=2, vectors=\"glove.6B.200d\" if use_precomputed_embeds else None)\n",
    "vocab_size = len(TEXT.vocab.stoi)\n",
    "print(f\"Number of unique tokens in vocabulary: {len(TEXT.vocab)}\")"
   ]
  },
  {
   "cell_type": "markdown",
   "metadata": {},
   "source": [
    "We now define the iterator:\n",
    "* Divides the corpus into batches of sequence length => [`bppt_len`, `batch_size`].\n",
    "* Does not use padding and so drops the left over data after batching."
   ]
  },
  {
   "cell_type": "code",
   "execution_count": 7,
   "metadata": {},
   "outputs": [
    {
     "name": "stderr",
     "output_type": "stream",
     "text": [
      "/anaconda3/envs/nlp/lib/python3.7/site-packages/torchtext/data/iterator.py:48: UserWarning: BPTTIterator class will be retired in the 0.8.0 release and moved to torchtext.legacy. Please see 0.7.0 release notes for further information.\n",
      "  warnings.warn('{} class will be retired in the 0.8.0 release and moved to torchtext.legacy. Please see 0.7.0 release notes for further information.'.format(self.__class__.__name__), UserWarning)\n"
     ]
    }
   ],
   "source": [
    "train_iter, val_iter, test_iter = BPTTIterator.splits((train_x, val_x, test_x),\n",
    "                                                      batch_size=batch_size,\n",
    "                                                      bptt_len=seq_len,\n",
    "                                                      device=device,\n",
    "                                                      repeat=False)"
   ]
  },
  {
   "cell_type": "markdown",
   "metadata": {},
   "source": [
    "Initialise the Model:\n",
    "* Here in the forward pass we keep the hidden state of the RNN because the entire dataset is a continuous corpus, meaning we want to retain the hidden state between sequences within a batch. \n",
    "\n",
    "* We can't retain the entire history as this would mean the model will try to backpropogate to the beginning of the dataset which requires a lot of memory and time. Hence we have a `repackage_hidden()` function used at the start of each batch, which treats the hidden state of the RNN from the previous batch as a constant.\n",
    "\n",
    "* We initialise all the weights of the network from a uniform distribution, $\\mathcal{U}(-0.1,0.1)$ and initialise the biases to $0$.\n",
    "\n",
    "* Additionally, we have a `init_hidden()` function which initialises the hidden state of the RNN to a zero vector. Remember if using an LSTM then we have both the hidden state and the cell state to initialise."
   ]
  },
  {
   "cell_type": "code",
   "execution_count": 8,
   "metadata": {},
   "outputs": [
    {
     "name": "stdout",
     "output_type": "stream",
     "text": [
      "RNN(\n",
      "  (encoder): Embedding(28785, 200)\n",
      "  (rnn): LSTM(200, 128, batch_first=True)\n",
      "  (fc): Linear(in_features=128, out_features=28785, bias=True)\n",
      "  (relu): ReLU(inplace=True)\n",
      ")\n"
     ]
    }
   ],
   "source": [
    "rnn = RNN(model=\"lstm\",\n",
    "          input_size=vocab_size,\n",
    "          embed_size=embed_size,\n",
    "          rnn_hidden_size=rnn_hidden_size, \n",
    "          rnn_num_layers=rnn_num_layers, \n",
    "          hidden_layer_size=hidden_layer_size,\n",
    "          precomputed_embeds=Text.vocab.vectors if use_precomputed_embeds else None)\n",
    "print(rnn)"
   ]
  },
  {
   "cell_type": "markdown",
   "metadata": {},
   "source": [
    "## Training"
   ]
  },
  {
   "cell_type": "markdown",
   "metadata": {},
   "source": [
    "We now define the training procedure:\n",
    "* We use the `torch.nn.CrossEntropyLoss` function. This loss takes the index of the correct class as the ground truth instead of a one-hot vector. Unfortunately, it only takes tensors of dimension 2 so we need to rehape our prediction and target matrices."
   ]
  },
  {
   "cell_type": "code",
   "execution_count": 11,
   "metadata": {},
   "outputs": [],
   "source": [
    "def train(model, \n",
    "          train_iter, \n",
    "          val_iter, \n",
    "          epochs, \n",
    "          batch_size, \n",
    "          seq_len, \n",
    "          learning_rate, \n",
    "          clip,\n",
    "          solver,\n",
    "          device):\n",
    "    \"\"\"\n",
    "    Fit model with the training data and validate using the validation data.\n",
    "    \n",
    "    Parameters:\n",
    "    -----------\n",
    "    model : `torch.nn.Module` \n",
    "        The model.\n",
    "    train_iter : `torchtext.data.iterator.BPTTIterator`\n",
    "        The training data iterator.\n",
    "    val_iter : `torchtext.data.iterator.BPTTIterator`\n",
    "        The validation data iterator.\n",
    "    batch_size : `int`\n",
    "        The number of sequences per batch.\n",
    "    seq_len : `int`\n",
    "        The number of encoded chars in a sequence.\n",
    "    learning_rate : `float`\n",
    "        The learning rate.\n",
    "    clip : `float`\n",
    "        Value for clipping the gradients by.\n",
    "    solver : `str`\n",
    "        The optimiser to use, either \"adam\" or \"sgd\".\n",
    "    device : `torch.device`\n",
    "        Whether working on GPU or CPU.\n",
    "        \n",
    "    Returns:\n",
    "    -------\n",
    "    measures : `dict` of `list`s\n",
    "        Dictionary of training and validation \n",
    "        accuracies and losses for each epoch.\n",
    "    \"\"\"  \n",
    "    # send model to gpu or cpu\n",
    "    model.to(device)\n",
    "    # set model to train mode    \n",
    "    model.train()        \n",
    "\n",
    "    # initialise optimiser\n",
    "    if solver.lower() == \"adam\": \n",
    "        optimiser = torch.optim.Adam(model.parameters(), lr=learning_rate)\n",
    "    elif solver.lower == \"sgd\":\n",
    "        optimiser = torch.optim.SGD(model.parameters(), lr=learning_rate)\n",
    "    # initialise loss function: cross-entropy loss\n",
    "    criterion = nn.CrossEntropyLoss()     \n",
    "    \n",
    "    # initialise the hidden state of the RNN to zeros\n",
    "    hidden = model.init_hidden(batch_size, device)       \n",
    "    \n",
    "    measures = defaultdict(list)\n",
    "    best_model = copy.deepcopy(model)\n",
    "    best_val = np.inf\n",
    "    for epoch in range(epochs):\n",
    "        \n",
    "        start_time = time.time()\n",
    "        train_loss = train_corr = 0.\n",
    "\n",
    "        for i, batch in enumerate(train_iter):\n",
    "            # detach hidden state from history\n",
    "            hidden = model.repackage_hidden(hidden)            \n",
    "            \n",
    "            x, y = batch.text.T, batch.target.T\n",
    "            \n",
    "            # zero accumulated gradients\n",
    "            optimiser.zero_grad()\n",
    "            \n",
    "            # forward Propogation: get prediction from model\n",
    "            preds, hidden = model(x, hidden)         \n",
    "            \n",
    "            # calculate the loss\n",
    "            loss = criterion(preds.reshape(-1, model.input_size), \n",
    "                             y.reshape(-1))              \n",
    "       \n",
    "            # backpropogation: calculating gradients\n",
    "            loss.backward()\n",
    "            # prevent the exploding gradient problem in RNNs/LSTMs.\n",
    "            nn.utils.clip_grad_norm_(model.parameters(), clip)\n",
    "            # update weights\n",
    "            optimiser.step()\n",
    "            \n",
    "            # append the train loss\n",
    "            train_loss += loss.item()*x.size(0)*x.size(1)      \n",
    "            # get number of tokens correct \n",
    "            preds = preds.max(2)[1].cpu().numpy()\n",
    "            y = y.cpu().numpy()\n",
    "            train_corr += int((preds == y).sum())  \n",
    "\n",
    "        # set model to evaluate mode\n",
    "        model.eval() \n",
    "        # get new hidden states for RNN \n",
    "        val_hidden = model.init_hidden(batch_size, device)           \n",
    "        # monitor the validation loss\n",
    "        val_loss = val_corr = 0.        \n",
    "        with torch.no_grad():\n",
    "            for j, batch in enumerate(val_iter):                    \n",
    "                x, y = batch.text.T, batch.target.T\n",
    "                # get validation prediction\n",
    "                preds, val_hidden = model(x, val_hidden)          \n",
    "                # get validaiton loss\n",
    "                loss = criterion(preds.reshape(-1, model.input_size), \n",
    "                                 y.reshape(-1)) \n",
    "                # add the validation loss\n",
    "                val_loss += loss.item()*x.size(0)*x.size(1)      \n",
    "                # get number of tokens correct  \n",
    "                preds = preds.max(2)[1].cpu().numpy()\n",
    "                y = y.cpu().numpy()\n",
    "                val_corr += int((preds == y).sum()) \n",
    "\n",
    "        # put model to train mode\n",
    "        model.train()      \n",
    "        \n",
    "        # save losses from epoch\n",
    "        train_loss /= len(train_iter.dataset.examples[0].text)\n",
    "        val_loss /= len(val_iter.dataset.examples[0].text)\n",
    "        measures[\"Train loss\"].append(train_loss)\n",
    "        measures[\"Val loss\"].append(val_loss)\n",
    "        # save accuracies from epoch\n",
    "        train_corr /= len(train_iter.dataset.examples[0].text)\n",
    "        val_corr /= len(val_iter.dataset.examples[0].text)      \n",
    "        measures[\"Train acc\"].append(train_corr)\n",
    "        measures[\"Val acc\"].append(val_corr)        \n",
    "        \n",
    "        print(\"Epoch: {}/{}...\".format(epoch+1, epochs),\n",
    "              \"Train Loss: {:.4f}...\".format(train_loss),\n",
    "              \"Val Loss: {:.4f}...\".format(val_loss),\n",
    "              \"Time Taken: {:,.4f} seconds\".format(time.time()-start_time))\n",
    "        print(\"Train Acc: {:.4f}...\".format(train_corr),\n",
    "              \"Val Acc: {:.4f}\".format(val_corr)) \n",
    "\n",
    "        # save best model\n",
    "        if measures[\"Val loss\"][-1] < best_val:\n",
    "            best_val = measures[\"Val loss\"][-1]\n",
    "            best_model = copy.deepcopy(model)\n",
    "            \n",
    "        # early stopping condition for convergence on validation.\n",
    "        win_size = 10\n",
    "        threshold = 0.00005        \n",
    "        try:\n",
    "            curr_avg = np.mean(measures[\"Val loss\"][-1-win_size:-1])\n",
    "            prev_avg = np.mean(measures[\"Val loss\"][-win_size*2:-win_size])\n",
    "            if np.absolute(curr_avg - prev_avg) < threshold:\n",
    "                break\n",
    "        except:\n",
    "            pass \n",
    "    \n",
    "    return best_model, measures"
   ]
  },
  {
   "cell_type": "code",
   "execution_count": 12,
   "metadata": {},
   "outputs": [
    {
     "name": "stdout",
     "output_type": "stream",
     "text": [
      "Epoch: 1/2... Train Loss: 0.0030... Val Loss: 0.0282... Time Taken: 1.0481 seconds\n",
      "Train Acc: 0.0000... Val Acc: 0.0000\n"
     ]
    },
    {
     "name": "stderr",
     "output_type": "stream",
     "text": [
      "/anaconda3/envs/nlp/lib/python3.7/site-packages/numpy/core/fromnumeric.py:3373: RuntimeWarning: Mean of empty slice.\n",
      "  out=out, **kwargs)\n",
      "/anaconda3/envs/nlp/lib/python3.7/site-packages/numpy/core/_methods.py:170: RuntimeWarning: invalid value encountered in double_scalars\n",
      "  ret = ret.dtype.type(ret / rcount)\n"
     ]
    }
   ],
   "source": [
    "# train the model\n",
    "best_model, measures = train(model=rnn, \n",
    "                             train_iter=train_iter, \n",
    "                             val_iter=val_iter, \n",
    "                             epochs=epochs, \n",
    "                             batch_size=batch_size, \n",
    "                             seq_len=seq_len, \n",
    "                             learning_rate=learning_rate, \n",
    "                             clip=clip,\n",
    "                             solver=solver,\n",
    "                             device=device)"
   ]
  },
  {
   "cell_type": "code",
   "execution_count": 13,
   "metadata": {},
   "outputs": [
    {
     "data": {
      "image/png": "[encoded data removed]",
      "text/plain": [
       "<Figure size 720x360 with 1 Axes>"
      ]
     },
     "metadata": {
      "needs_background": "light"
     },
     "output_type": "display_data"
    }
   ],
   "source": [
    "# Plot train and validation loss\n",
    "plt.figure(figsize=(10,5))\n",
    "plt.plot(measures[\"Train loss\"], label=\"Train Loss\")\n",
    "plt.plot(measures[\"Val loss\"], label=\"Validation Loss\")\n",
    "plt.title(\"Loss Plot\")\n",
    "plt.xlabel(\"Epochs\")\n",
    "plt.ylabel(\"Cross Entropy Loss\")\n",
    "plt.legend()\n",
    "plt.grid()\n",
    "plt.show()"
   ]
  },
  {
   "cell_type": "code",
   "execution_count": 15,
   "metadata": {},
   "outputs": [
    {
     "data": {
      "image/png": "[encoded data removed]",
      "text/plain": [
       "<Figure size 720x360 with 1 Axes>"
      ]
     },
     "metadata": {
      "needs_background": "light"
     },
     "output_type": "display_data"
    }
   ],
   "source": [
    "# Plot train and validation acc\n",
    "plt.figure(figsize=(10,5))\n",
    "plt.plot(measures[\"Train acc\"], label=\"Train Acc\")\n",
    "plt.plot(measures[\"Val acc\"], label=\"Validation Acc\")\n",
    "plt.title(\"Accuracy Plot\")\n",
    "plt.xlabel(\"Epochs\")\n",
    "plt.ylabel(\"Accuracy\")\n",
    "plt.legend()\n",
    "plt.grid()\n",
    "plt.show()"
   ]
  },
  {
   "cell_type": "markdown",
   "metadata": {},
   "source": [
    "## Evaluation"
   ]
  },
  {
   "cell_type": "markdown",
   "metadata": {},
   "source": [
    "Evaluate the model on the test data"
   ]
  },
  {
   "cell_type": "code",
   "execution_count": null,
   "metadata": {},
   "outputs": [],
   "source": [
    "def evaluate(model, \n",
    "             test_iter, \n",
    "             batch_size, \n",
    "             seq_len,\n",
    "             device):\n",
    "    \"\"\"\n",
    "    Evaluate model on data and calculate accuracy.\n",
    "    \n",
    "    Parameters:\n",
    "    -----------\n",
    "    model : `torch.nn.Module` \n",
    "        The model.\n",
    "    test_iter : `torchtext.data.iterator.BPTTIterator`\n",
    "        The test data iterator.\n",
    "    batch_size : `int`\n",
    "        The number of sequences per batch.\n",
    "    seq_len : `int`\n",
    "        The number of encoded chars in a sequence.\n",
    "    device : `torch.device`\n",
    "        Whether working on GPU or CPU.\n",
    "        \n",
    "    Returns:\n",
    "    -------\n",
    "    acc : `float`\n",
    "        The accuracy of the model on the data predicted over\n",
    "    \"\"\"    \n",
    "    # send model to device\n",
    "    model.to(device)\n",
    "    # set to evaluate mode\n",
    "    model.eval()    \n",
    "    \n",
    "    # get new hidden state for RNN\n",
    "    hidden = model.init_hidden(batch_size)          \n",
    "    # accuracy stats after every epoch\n",
    "    eval_corr = 0    \n",
    "    for i, batch in enumerate(test_iter):\n",
    "        x, y = batch.text.T, batch.target.T\n",
    "        # get validation prediction\n",
    "        preds, hidden = model(x, hidden)             \n",
    "        # get number of tokens correct  \n",
    "        preds = preds.max(2)[1].cpu().numpy()\n",
    "        y = y.cpu().numpy()\n",
    "        eval_corr += int((preds == y).sum())           \n",
    "    acc = eval_corr / len(test_iter.dataset.examples[0].text)\n",
    "    return acc"
   ]
  },
  {
   "cell_type": "code",
   "execution_count": null,
   "metadata": {},
   "outputs": [],
   "source": [
    "train_acc = evaluate(model=best_model, \n",
    "                     test_iter=train_iter, \n",
    "                     batch_size=batch_size, \n",
    "                     seq_len=seq_len,\n",
    "                     device=device)\n",
    "val_acc = evaluate(model=best_model, \n",
    "                   test_iter=val_iter, \n",
    "                   batch_size=batch_size, \n",
    "                   seq_len=seq_len,\n",
    "                   device=device)\n",
    "test_acc = evaluate(model=best_model, \n",
    "                    test_iter=test_iter, \n",
    "                    batch_size=batch_size, \n",
    "                    seq_len=seq_len,\n",
    "                    device=device)\n",
    "print(\"Final train accuracy: \", train_acc)\n",
    "print(\"Final val accuracy:   \", val_acc)\n",
    "print(\"Final test accuracy:  \", test_acc)"
   ]
  },
  {
   "cell_type": "markdown",
   "metadata": {},
   "source": [
    "## Interactive "
   ]
  },
  {
   "cell_type": "markdown",
   "metadata": {},
   "source": [
    "* Softmax activation function for a vector $\\mathbf{z}\\in\\mathbb{R}^{N}$ is given by\n",
    "$$\\sigma(\\mathbf{z})_i=\\frac{e^{z_i}}{\\sum^{N}_{j=1}e^{z}_j}\\in[0,1]$$\n",
    "Thus this is useful for convert the output layer values pre-application of the activation function to probabilities.\n",
    "\n",
    "* Sigmoid activation function for a scalar $z\\in\\mathbb{R}$ is given by\n",
    "$$\\sigma(z)=\\frac{1}{1+e^{-z}}\\in[0,1]$$\n",
    "This can be used to convert the output value of a neural network (single output node) pre-application of the activation function to a probability. Thus used for binary classification."
   ]
  },
  {
   "cell_type": "code",
   "execution_count": 55,
   "metadata": {},
   "outputs": [],
   "source": [
    "def sample(model, \n",
    "           size, \n",
    "           device,\n",
    "           prime=\"The\", \n",
    "           top_k=None):\n",
    "    \"\"\"\n",
    "    Given a initial sequence `prime` predicted the following \n",
    "    words.\n",
    "    \n",
    "    Parameters:\n",
    "    -----------\n",
    "    model : `torch.nn.Module`\n",
    "        The recurrent network model. \n",
    "    size : `int`\n",
    "        The number of tokens to predict\n",
    "    device : `torch.device`\n",
    "        Whether working on GPU or CPU.          \n",
    "    prime : `str`\n",
    "        The starting sequence to predict from.\n",
    "    top_k : `int`\n",
    "        The number of top tokens to draw the final token from.       \n",
    "        \n",
    "    Returns:\n",
    "    --------\n",
    "    text : `str`\n",
    "        The prime with predicted next tokens.\n",
    "    \"\"\"\n",
    "    # send model to device\n",
    "    model.to(device)\n",
    "    # set model to evaluate mode\n",
    "    model.eval()\n",
    "            \n",
    "    # tokenize the prime\n",
    "    tokens = TEXT.preprocess(prime)\n",
    "    # get new hidden state for testing\n",
    "    hidden = model.init_hidden(batch_size=1, device=device)\n",
    "    # iterate through tokens in prime to build up hidden state\n",
    "    for token in tokens:\n",
    "        token, hidden = predict(model, token, hidden, top_k=top_k)\n",
    "    # append the final token to the prime\n",
    "    tokens.append(token)\n",
    "    \n",
    "    if size>1:\n",
    "        # now pass in the previous character and get a new one\n",
    "        for _ in range(size-1):\n",
    "            token, hidden = predict(model, tokens[-1], hidden, top_k=top_k)\n",
    "            tokens.append(token)\n",
    "            \n",
    "    return ' '.join(tokens)\n",
    "\n",
    "def predict(model, \n",
    "            token, \n",
    "            hidden, \n",
    "            device,\n",
    "            top_k=None):\n",
    "    \"\"\"\n",
    "    Given a character, predict the next character\n",
    "    \n",
    "    Parameters:\n",
    "    -----------\n",
    "    model : `torch.nn.Module`\n",
    "        The recurrent network model.\n",
    "    token : `str`\n",
    "        The previous token for which we must predict the next.\n",
    "    hidden : `torch.Tensor` or `tuple`\n",
    "        The hidden state of the RNN.\n",
    "    device : `torch.device`\n",
    "        Whether working on GPU or CPU.             \n",
    "    top_k : `int`\n",
    "        The number of top tokens to draw the final token from.   \n",
    "        \n",
    "    Returns:\n",
    "    --------\n",
    "    top_token : `str`\n",
    "        The top token predicted by the model.\n",
    "    hidden : `torch.Tensor` or `tuple`\n",
    "        The hidden state of the RNN.    \n",
    "    \"\"\" \n",
    "    # encode the token to an integer\n",
    "    enc_x = torch.LongTensor([TEXT.vocab.stoi[token]])\n",
    "    # add extra dimension to indicate batch_size of 1, [batch_size=1, seq_len=1]\n",
    "    enc_x = enc_x.unsqueeze(0).to(device)\n",
    "    \n",
    "    with torch.no_grad():\n",
    "        # forward pass through model\n",
    "        pred, hidden = model(enc_x, hidden)\n",
    "\n",
    "    # get the character probabilities\n",
    "    p = F.softmax(pred, dim=2).data.cpu()\n",
    "    # get most likely characters\n",
    "    if top_k is None:\n",
    "        # all chars are the top chars\n",
    "        top_token = np.arange(model.input_size)\n",
    "    else:\n",
    "        # return the prob and the top_k top_tokens \n",
    "        p, top_tokens = p.topk(top_k)\n",
    "        top_tokens = top_tokens.numpy().squeeze()\n",
    "    \n",
    "    # select the likely next character with some element of randomness\n",
    "    p = p.numpy().squeeze()\n",
    "    top_token = np.random.choice(top_tokens, p=p/p.sum())\n",
    "    # return the encoded value of the predicted char and the hidden state\n",
    "    return TEXT.vocab.itos[top_token], hidden"
   ]
  },
  {
   "cell_type": "code",
   "execution_count": 56,
   "metadata": {},
   "outputs": [
    {
     "data": {
      "text/plain": [
       "'hello how prejudice'"
      ]
     },
     "execution_count": 56,
     "metadata": {},
     "output_type": "execute_result"
    }
   ],
   "source": [
    "sample(model=rnn, \n",
    "       size=1,\n",
    "       device=device,\n",
    "       prime=\"hello how\", \n",
    "       top_k=5)"
   ]
  }
 ],
 "metadata": {
  "kernelspec": {
   "display_name": "Python [conda env:nlp]",
   "language": "python",
   "name": "conda-env-nlp-py"
  },
  "language_info": {
   "codemirror_mode": {
    "name": "ipython",
    "version": 3
   },
   "file_extension": ".py",
   "mimetype": "text/x-python",
   "name": "python",
   "nbconvert_exporter": "python",
   "pygments_lexer": "ipython3",
   "version": "3.7.4"
  }
 },
 "nbformat": 4,
 "nbformat_minor": 4
}
